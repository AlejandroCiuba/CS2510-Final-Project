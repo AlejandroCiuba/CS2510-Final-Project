{
 "cells": [
  {
   "cell_type": "markdown",
   "metadata": {},
   "source": [
    "# Issues\n",
    "\n",
    "---\n",
    "\n",
    "## Summary\n",
    "\n",
    "This notebook does some basic analysis of the issues found in the chosen repositories as well as our topic modeling process.\n",
    "\n",
    "---\n",
    "\n",
    "## Set-Up\n",
    "\n",
    "### Necessary Imports"
   ]
  },
  {
   "cell_type": "code",
   "execution_count": 25,
   "metadata": {},
   "outputs": [],
   "source": [
    "from gensim.corpora import Dictionary\n",
    "from gensim.models import (CoherenceModel,\n",
    "                           ldamulticore, )\n",
    "from pyLDAvis import enable_notebook\n",
    "from nltk.corpus import stopwords\n",
    "\n",
    "import pyLDAvis.gensim\n",
    "import spacy"
   ]
  },
  {
   "cell_type": "code",
   "execution_count": 26,
   "metadata": {},
   "outputs": [],
   "source": [
    "import datetime\n",
    "\n",
    "import pandas as pd\n",
    "import matplotlib.pyplot as plt\n",
    "import seaborn as sns"
   ]
  },
  {
   "cell_type": "markdown",
   "metadata": {},
   "source": [
    "### Settings"
   ]
  },
  {
   "cell_type": "code",
   "execution_count": 27,
   "metadata": {},
   "outputs": [
    {
     "name": "stdout",
     "output_type": "stream",
     "text": [
      "Pretty printing has been turned ON\n"
     ]
    }
   ],
   "source": [
    "# Turn this off\n",
    "%pprint\n",
    "pd.set_option('display.max_columns', None)\n",
    "plt.style.use('ggplot')\n",
    "enable_notebook()"
   ]
  },
  {
   "cell_type": "markdown",
   "metadata": {},
   "source": [
    "### Globals"
   ]
  },
  {
   "cell_type": "code",
   "execution_count": 28,
   "metadata": {},
   "outputs": [],
   "source": [
    "nlp = spacy.load(\"en_core_web_sm\", disable=[\"parser\", \"ner\"])\n",
    "STOPS = stopwords.words(\"english\")\n",
    "\n",
    "# Append the Raft names\n",
    "STOPS.extend([\"tikv\", \"TiKV\", \"Tikv\", \"Hashicorp\", \"hashicorp\", \"HashiCorp\", \"pysyncobj\", \"PySyncObj\", \"Pysyncobj\"])"
   ]
  },
  {
   "cell_type": "code",
   "execution_count": 29,
   "metadata": {},
   "outputs": [],
   "source": [
    "# Topic modeling stuff\n",
    "NUM_TOPICS = 30\n",
    "PASSES = 4\n",
    "CHUNK_SIZE = 2_000\n",
    "SEED = 42\n",
    "WORKERS = 8"
   ]
  },
  {
   "cell_type": "code",
   "execution_count": 30,
   "metadata": {},
   "outputs": [],
   "source": [
    "PATH = \"issues.csv\"\n",
    "issues = pd.read_csv(PATH)"
   ]
  },
  {
   "cell_type": "code",
   "execution_count": 31,
   "metadata": {},
   "outputs": [
    {
     "name": "stdout",
     "output_type": "stream",
     "text": [
      "<class 'pandas.core.frame.DataFrame'>\n",
      "RangeIndex: 5301 entries, 0 to 5300\n",
      "Data columns (total 6 columns):\n",
      " #   Column   Non-Null Count  Dtype \n",
      "---  ------   --------------  ----- \n",
      " 0   ID       5301 non-null   int64 \n",
      " 1   STATUS   5301 non-null   object\n",
      " 2   ISSUE    5301 non-null   object\n",
      " 3   LABELS   4148 non-null   object\n",
      " 4   UPDATED  5301 non-null   object\n",
      " 5   REPO     5301 non-null   object\n",
      "dtypes: int64(1), object(5)\n",
      "memory usage: 248.6+ KB\n"
     ]
    },
    {
     "data": {
      "text/html": [
       "<div>\n",
       "<style scoped>\n",
       "    .dataframe tbody tr th:only-of-type {\n",
       "        vertical-align: middle;\n",
       "    }\n",
       "\n",
       "    .dataframe tbody tr th {\n",
       "        vertical-align: top;\n",
       "    }\n",
       "\n",
       "    .dataframe thead th {\n",
       "        text-align: right;\n",
       "    }\n",
       "</style>\n",
       "<table border=\"1\" class=\"dataframe\">\n",
       "  <thead>\n",
       "    <tr style=\"text-align: right;\">\n",
       "      <th></th>\n",
       "      <th>ID</th>\n",
       "      <th>STATUS</th>\n",
       "      <th>ISSUE</th>\n",
       "      <th>LABELS</th>\n",
       "      <th>UPDATED</th>\n",
       "      <th>REPO</th>\n",
       "    </tr>\n",
       "  </thead>\n",
       "  <tbody>\n",
       "    <tr>\n",
       "      <th>0</th>\n",
       "      <td>586</td>\n",
       "      <td>OPEN</td>\n",
       "      <td>Leader election times seem too long with max c...</td>\n",
       "      <td>NaN</td>\n",
       "      <td>2024-03-06T10:34:55Z</td>\n",
       "      <td>/hashicorp/</td>\n",
       "    </tr>\n",
       "    <tr>\n",
       "      <th>1</th>\n",
       "      <td>585</td>\n",
       "      <td>OPEN</td>\n",
       "      <td>Allow network transfer of snapshot to be cance...</td>\n",
       "      <td>NaN</td>\n",
       "      <td>2024-02-28T20:15:22Z</td>\n",
       "      <td>/hashicorp/</td>\n",
       "    </tr>\n",
       "    <tr>\n",
       "      <th>2</th>\n",
       "      <td>578</td>\n",
       "      <td>CLOSED</td>\n",
       "      <td>Inconsistent Raft Latency on Different Infrast...</td>\n",
       "      <td>NaN</td>\n",
       "      <td>2023-10-30T22:10:40Z</td>\n",
       "      <td>/hashicorp/</td>\n",
       "    </tr>\n",
       "    <tr>\n",
       "      <th>3</th>\n",
       "      <td>576</td>\n",
       "      <td>CLOSED</td>\n",
       "      <td>Ability for peers to denote others/themselves ...</td>\n",
       "      <td>NaN</td>\n",
       "      <td>2023-10-17T17:25:44Z</td>\n",
       "      <td>/hashicorp/</td>\n",
       "    </tr>\n",
       "    <tr>\n",
       "      <th>4</th>\n",
       "      <td>574</td>\n",
       "      <td>CLOSED</td>\n",
       "      <td>Use pebbledb as raft logstore &amp; stablestore; r...</td>\n",
       "      <td>NaN</td>\n",
       "      <td>2023-09-20T03:28:58Z</td>\n",
       "      <td>/hashicorp/</td>\n",
       "    </tr>\n",
       "  </tbody>\n",
       "</table>\n",
       "</div>"
      ],
      "text/plain": [
       "    ID  STATUS                                              ISSUE LABELS  \\\n",
       "0  586    OPEN  Leader election times seem too long with max c...    NaN   \n",
       "1  585    OPEN  Allow network transfer of snapshot to be cance...    NaN   \n",
       "2  578  CLOSED  Inconsistent Raft Latency on Different Infrast...    NaN   \n",
       "3  576  CLOSED  Ability for peers to denote others/themselves ...    NaN   \n",
       "4  574  CLOSED  Use pebbledb as raft logstore & stablestore; r...    NaN   \n",
       "\n",
       "                UPDATED         REPO  \n",
       "0  2024-03-06T10:34:55Z  /hashicorp/  \n",
       "1  2024-02-28T20:15:22Z  /hashicorp/  \n",
       "2  2023-10-30T22:10:40Z  /hashicorp/  \n",
       "3  2023-10-17T17:25:44Z  /hashicorp/  \n",
       "4  2023-09-20T03:28:58Z  /hashicorp/  "
      ]
     },
     "execution_count": 31,
     "metadata": {},
     "output_type": "execute_result"
    }
   ],
   "source": [
    "issues.info()\n",
    "issues.head()"
   ]
  },
  {
   "cell_type": "markdown",
   "metadata": {},
   "source": [
    "### Functions"
   ]
  },
  {
   "cell_type": "code",
   "execution_count": 32,
   "metadata": {},
   "outputs": [],
   "source": [
    "def lemmatize(texts: pd.Series, pos: list[str]) -> list[list[str]]:\n",
    "    return [[tok.lemma_ for tok in nlp(doc.lower()) if tok not in STOPS and tok.pos_ in pos] for doc in texts]"
   ]
  },
  {
   "cell_type": "code",
   "execution_count": 33,
   "metadata": {},
   "outputs": [
    {
     "data": {
      "text/plain": [
       "[['test', 'stuff'], ['eat', 'tomorrow']]"
      ]
     },
     "execution_count": 33,
     "metadata": {},
     "output_type": "execute_result"
    }
   ],
   "source": [
    "lemmatize(pd.Series([\"I will Test this stuff please!\", \"He eats with me tomorrow\"]), pos=[\"NOUN\", \"ADJ\", \"ADV\", \"VERB\"])"
   ]
  },
  {
   "cell_type": "markdown",
   "metadata": {},
   "source": [
    "---\n",
    "\n",
    "## Clean-Up"
   ]
  },
  {
   "cell_type": "code",
   "execution_count": 34,
   "metadata": {},
   "outputs": [
    {
     "data": {
      "text/plain": [
       "0       hashicorp\n",
       "1       hashicorp\n",
       "2       hashicorp\n",
       "3       hashicorp\n",
       "4       hashicorp\n",
       "          ...    \n",
       "5296        bakwc\n",
       "5297        bakwc\n",
       "5298        bakwc\n",
       "5299        bakwc\n",
       "5300        bakwc\n",
       "Name: REPO, Length: 5301, dtype: object"
      ]
     },
     "execution_count": 34,
     "metadata": {},
     "output_type": "execute_result"
    }
   ],
   "source": [
    "issues.REPO = issues.REPO.map(lambda x: x[1:-1])\n",
    "issues.REPO"
   ]
  },
  {
   "cell_type": "code",
   "execution_count": 35,
   "metadata": {},
   "outputs": [
    {
     "data": {
      "text/plain": [
       "0       2024-03-06T10:34:55+00:00\n",
       "1       2024-02-28T20:15:22+00:00\n",
       "2       2023-10-30T22:10:40+00:00\n",
       "3       2023-10-17T17:25:44+00:00\n",
       "4       2023-09-20T03:28:58+00:00\n",
       "                  ...            \n",
       "5296    2016-07-04T07:52:16+00:00\n",
       "5297    2016-06-12T03:25:47+00:00\n",
       "5298    2018-10-28T18:45:28+00:00\n",
       "5299    2016-04-05T15:15:37+00:00\n",
       "5300    2016-04-04T09:35:04+00:00\n",
       "Name: UPDATED, Length: 5301, dtype: object"
      ]
     },
     "execution_count": 35,
     "metadata": {},
     "output_type": "execute_result"
    }
   ],
   "source": [
    "issues.UPDATED = issues.UPDATED.map(lambda x: datetime.datetime.fromisoformat(x).isoformat(timespec=\"seconds\"))\n",
    "issues.UPDATED"
   ]
  },
  {
   "cell_type": "code",
   "execution_count": 36,
   "metadata": {},
   "outputs": [
    {
     "data": {
      "text/plain": [
       "0       []\n",
       "1       []\n",
       "2       []\n",
       "3       []\n",
       "4       []\n",
       "        ..\n",
       "5296    []\n",
       "5297    []\n",
       "5298    []\n",
       "5299    []\n",
       "5300    []\n",
       "Name: LABELS, Length: 5301, dtype: object"
      ]
     },
     "execution_count": 36,
     "metadata": {},
     "output_type": "execute_result"
    }
   ],
   "source": [
    "issues.LABELS = issues.LABELS.fillna(value=\"\").map(lambda x: x.split(';'))\n",
    "issues.LABELS"
   ]
  },
  {
   "cell_type": "markdown",
   "metadata": {},
   "source": [
    "---\n",
    "\n",
    "## Exploration"
   ]
  },
  {
   "cell_type": "code",
   "execution_count": 37,
   "metadata": {},
   "outputs": [
    {
     "data": {
      "text/plain": [
       "<Axes: xlabel='REPO', ylabel='count'>"
      ]
     },
     "execution_count": 37,
     "metadata": {},
     "output_type": "execute_result"
    },
    {
     "data": {
      "image/png": "[encoded data removed]",
      "text/plain": [
       "<Figure size 640x480 with 1 Axes>"
      ]
     },
     "metadata": {},
     "output_type": "display_data"
    }
   ],
   "source": [
    "sns.countplot(data=issues, x='REPO')"
   ]
  },
  {
   "cell_type": "code",
   "execution_count": 38,
   "metadata": {},
   "outputs": [
    {
     "data": {
      "text/plain": [
       "<seaborn.axisgrid.FacetGrid at 0x71482d052840>"
      ]
     },
     "execution_count": 38,
     "metadata": {},
     "output_type": "execute_result"
    },
    {
     "data": {
      "image/png": "[encoded data removed]",
      "text/plain": [
       "<Figure size 900x300 with 3 Axes>"
      ]
     },
     "metadata": {},
     "output_type": "display_data"
    }
   ],
   "source": [
    "sns.FacetGrid(data=issues, col='REPO').map_dataframe(sns.countplot, x='STATUS', stat='percent')\n"
   ]
  },
  {
   "cell_type": "code",
   "execution_count": 39,
   "metadata": {},
   "outputs": [
    {
     "data": {
      "text/plain": [
       "['Leader election times seem too long with max current term',\n",
       " 'Allow network transfer of snapshot to be cancelled during shutdown',\n",
       " 'Inconsistent Raft Latency on Different Infrastructures',\n",
       " 'Ability for peers to denote others/themselves as too laggy to accept requests']"
      ]
     },
     "execution_count": 39,
     "metadata": {},
     "output_type": "execute_result"
    }
   ],
   "source": [
    "issues.ISSUE[:4].to_list()"
   ]
  },
  {
   "cell_type": "markdown",
   "metadata": {},
   "source": [
    "---\n",
    "\n",
    "## GitHub Issue Topic Modeling"
   ]
  },
  {
   "cell_type": "code",
   "execution_count": 40,
   "metadata": {},
   "outputs": [],
   "source": [
    "# Count word appearances and map types (words) to an index : (ind, count in document)\n",
    "lemmas = lemmatize(issues.ISSUE, pos=[\"NOUN\", \"ADJ\", \"ADV\", \"VERB\"])\n",
    "d = Dictionary(lemmas)"
   ]
  },
  {
   "cell_type": "code",
   "execution_count": 41,
   "metadata": {},
   "outputs": [
    {
     "name": "stdout",
     "output_type": "stream",
     "text": [
      "['auto', 'sync', 'reset', 'version', 'finish', '20min', 'only', 'g', 'datum']\n",
      "[(27, 1), (310, 1), (380, 1), (723, 1), (802, 1), (1061, 1), (1674, 1), (1680, 1), (1848, 1)]\n"
     ]
    }
   ],
   "source": [
    "Id = 1501\n",
    "print(lemmas[Id])\n",
    "print(d.doc2bow(lemmas[Id]))"
   ]
  },
  {
   "cell_type": "code",
   "execution_count": 42,
   "metadata": {},
   "outputs": [],
   "source": [
    "# Transform into a bag of words for each document\n",
    "corpus = [d.doc2bow(issue) for issue in lemmas]"
   ]
  },
  {
   "cell_type": "code",
   "execution_count": 43,
   "metadata": {},
   "outputs": [
    {
     "data": {
      "text/plain": [
       "[(27, 1),\n",
       " (310, 1),\n",
       " (380, 1),\n",
       " (723, 1),\n",
       " (802, 1),\n",
       " (1061, 1),\n",
       " (1674, 1),\n",
       " (1680, 1),\n",
       " (1848, 1)]"
      ]
     },
     "execution_count": 43,
     "metadata": {},
     "output_type": "execute_result"
    }
   ],
   "source": [
    "corpus[Id]"
   ]
  },
  {
   "cell_type": "code",
   "execution_count": 44,
   "metadata": {},
   "outputs": [
    {
     "data": {
      "text/plain": [
       "'only'"
      ]
     },
     "execution_count": 44,
     "metadata": {},
     "output_type": "execute_result"
    }
   ],
   "source": [
    "# How to get the word back\n",
    "wid = corpus[Id][1][0]\n",
    "d[wid]"
   ]
  },
  {
   "cell_type": "code",
   "execution_count": 45,
   "metadata": {},
   "outputs": [
    {
     "name": "stderr",
     "output_type": "stream",
     "text": [
      "/home/computer_cat/miniconda3/envs/cs2510-final/lib/python3.12/multiprocessing/popen_fork.py:66: DeprecationWarning: This process (pid=349215) is multi-threaded, use of fork() may lead to deadlocks in the child.\n",
      "  self.pid = os.fork()\n",
      "/home/computer_cat/miniconda3/envs/cs2510-final/lib/python3.12/multiprocessing/popen_fork.py:66: DeprecationWarning: This process (pid=349215) is multi-threaded, use of fork() may lead to deadlocks in the child.\n",
      "  self.pid = os.fork()\n",
      "/home/computer_cat/miniconda3/envs/cs2510-final/lib/python3.12/multiprocessing/popen_fork.py:66: DeprecationWarning: This process (pid=349215) is multi-threaded, use of fork() may lead to deadlocks in the child.\n",
      "  self.pid = os.fork()\n",
      "/home/computer_cat/miniconda3/envs/cs2510-final/lib/python3.12/multiprocessing/popen_fork.py:66: DeprecationWarning: This process (pid=349215) is multi-threaded, use of fork() may lead to deadlocks in the child.\n",
      "  self.pid = os.fork()\n",
      "/home/computer_cat/miniconda3/envs/cs2510-final/lib/python3.12/multiprocessing/popen_fork.py:66: DeprecationWarning: This process (pid=349215) is multi-threaded, use of fork() may lead to deadlocks in the child.\n",
      "  self.pid = os.fork()\n"
     ]
    },
    {
     "name": "stderr",
     "output_type": "stream",
     "text": [
      "/home/computer_cat/miniconda3/envs/cs2510-final/lib/python3.12/multiprocessing/popen_fork.py:66: DeprecationWarning: This process (pid=349215) is multi-threaded, use of fork() may lead to deadlocks in the child.\n",
      "  self.pid = os.fork()\n",
      "/home/computer_cat/miniconda3/envs/cs2510-final/lib/python3.12/multiprocessing/popen_fork.py:66: DeprecationWarning: This process (pid=349215) is multi-threaded, use of fork() may lead to deadlocks in the child.\n",
      "  self.pid = os.fork()\n",
      "/home/computer_cat/miniconda3/envs/cs2510-final/lib/python3.12/multiprocessing/popen_fork.py:66: DeprecationWarning: This process (pid=349215) is multi-threaded, use of fork() may lead to deadlocks in the child.\n",
      "  self.pid = os.fork()\n"
     ]
    }
   ],
   "source": [
    "model = ldamulticore.LdaMulticore(corpus=corpus, id2word=d, num_topics=NUM_TOPICS,\n",
    "                                  chunksize=CHUNK_SIZE, passes=PASSES, \n",
    "                                  per_word_topics=True, random_state=SEED, workers=WORKERS)"
   ]
  },
  {
   "cell_type": "code",
   "execution_count": 46,
   "metadata": {},
   "outputs": [
    {
     "name": "stderr",
     "output_type": "stream",
     "text": [
      "/home/computer_cat/miniconda3/envs/cs2510-final/lib/python3.12/multiprocessing/popen_fork.py:66: DeprecationWarning: This process (pid=349215) is multi-threaded, use of fork() may lead to deadlocks in the child.\n",
      "  self.pid = os.fork()\n",
      "/home/computer_cat/miniconda3/envs/cs2510-final/lib/python3.12/multiprocessing/popen_fork.py:66: DeprecationWarning: This process (pid=349215) is multi-threaded, use of fork() may lead to deadlocks in the child.\n",
      "  self.pid = os.fork()\n",
      "/home/computer_cat/miniconda3/envs/cs2510-final/lib/python3.12/multiprocessing/popen_fork.py:66: DeprecationWarning: This process (pid=349215) is multi-threaded, use of fork() may lead to deadlocks in the child.\n",
      "  self.pid = os.fork()\n",
      "/home/computer_cat/miniconda3/envs/cs2510-final/lib/python3.12/multiprocessing/popen_fork.py:66: DeprecationWarning: This process (pid=349215) is multi-threaded, use of fork() may lead to deadlocks in the child.\n",
      "  self.pid = os.fork()\n",
      "/home/computer_cat/miniconda3/envs/cs2510-final/lib/python3.12/multiprocessing/popen_fork.py:66: DeprecationWarning: This process (pid=349215) is multi-threaded, use of fork() may lead to deadlocks in the child.\n",
      "  self.pid = os.fork()\n",
      "/home/computer_cat/miniconda3/envs/cs2510-final/lib/python3.12/multiprocessing/popen_fork.py:66: DeprecationWarning: This process (pid=349215) is multi-threaded, use of fork() may lead to deadlocks in the child.\n",
      "  self.pid = os.fork()\n",
      "/home/computer_cat/miniconda3/envs/cs2510-final/lib/python3.12/multiprocessing/popen_fork.py:66: DeprecationWarning: This process (pid=349215) is multi-threaded, use of fork() may lead to deadlocks in the child.\n",
      "  self.pid = os.fork()\n",
      "/home/computer_cat/miniconda3/envs/cs2510-final/lib/python3.12/multiprocessing/popen_fork.py:66: DeprecationWarning: This process (pid=349215) is multi-threaded, use of fork() may lead to deadlocks in the child.\n",
      "  self.pid = os.fork()\n",
      "/home/computer_cat/miniconda3/envs/cs2510-final/lib/python3.12/multiprocessing/popen_fork.py:66: DeprecationWarning: This process (pid=349215) is multi-threaded, use of fork() may lead to deadlocks in the child.\n",
      "  self.pid = os.fork()\n",
      "/home/computer_cat/miniconda3/envs/cs2510-final/lib/python3.12/multiprocessing/popen_fork.py:66: DeprecationWarning: This process (pid=349215) is multi-threaded, use of fork() may lead to deadlocks in the child.\n",
      "  self.pid = os.fork()\n",
      "/home/computer_cat/miniconda3/envs/cs2510-final/lib/python3.12/multiprocessing/popen_fork.py:66: DeprecationWarning: This process (pid=349215) is multi-threaded, use of fork() may lead to deadlocks in the child.\n",
      "  self.pid = os.fork()\n",
      "/home/computer_cat/miniconda3/envs/cs2510-final/lib/python3.12/multiprocessing/popen_fork.py:66: DeprecationWarning: This process (pid=349215) is multi-threaded, use of fork() may lead to deadlocks in the child.\n",
      "  self.pid = os.fork()\n",
      "/home/computer_cat/miniconda3/envs/cs2510-final/lib/python3.12/multiprocessing/popen_fork.py:66: DeprecationWarning: This process (pid=349215) is multi-threaded, use of fork() may lead to deadlocks in the child.\n",
      "  self.pid = os.fork()\n",
      "/home/computer_cat/miniconda3/envs/cs2510-final/lib/python3.12/multiprocessing/popen_fork.py:66: DeprecationWarning: This process (pid=349215) is multi-threaded, use of fork() may lead to deadlocks in the child.\n",
      "  self.pid = os.fork()\n",
      "/home/computer_cat/miniconda3/envs/cs2510-final/lib/python3.12/multiprocessing/popen_fork.py:66: DeprecationWarning: This process (pid=349215) is multi-threaded, use of fork() may lead to deadlocks in the child.\n",
      "  self.pid = os.fork()\n"
     ]
    },
    {
     "name": "stdout",
     "output_type": "stream",
     "text": [
      "0.35872163362815274 [0.45625272300521785, 0.3059196170575745, 0.3190823982136593, 0.3251171589938533, 0.4121713757175791, 0.3148004507914727, 0.48503184671638666, 0.3572578009349952, 0.4643736125311895, 0.43914136016898897, 0.23985169829476133, 0.3454394795810244, 0.2758203495896598, 0.3919548796424673, 0.3408288352867697, 0.2828061214320667, 0.39680041072367467, 0.32951519404060314, 0.398158812103936, 0.4064350624320757, 0.3721185762492708, 0.2938869930131388, 0.41952644209949286, 0.31868282966819617, 0.3403539876608633, 0.5098789994392071, 0.318921392167351, 0.2316845668442215, 0.36345967092977427, 0.306376363515112]\n"
     ]
    }
   ],
   "source": [
    "# Get the coherence score\n",
    "coh_model = CoherenceModel(model=model, texts=lemmas, corpus=corpus, dictionary=d, coherence='c_v')\n",
    "print(coh_model.get_coherence(), coh_model.get_coherence_per_topic())"
   ]
  },
  {
   "cell_type": "code",
   "execution_count": 47,
   "metadata": {},
   "outputs": [
    {
     "ename": "AttributeError",
     "evalue": "module 'pyLDAvis' has no attribute 'gensim'",
     "output_type": "error",
     "traceback": [
      "\u001b[0;31m---------------------------------------------------------------------------\u001b[0m",
      "\u001b[0;31mAttributeError\u001b[0m                            Traceback (most recent call last)",
      "Cell \u001b[0;32mIn[47], line 3\u001b[0m\n\u001b[1;32m      1\u001b[0m \u001b[38;5;66;03m# Visualize\u001b[39;00m\n\u001b[1;32m      2\u001b[0m \u001b[38;5;66;03m# Learned about this library from https://github.com/wjbmattingly/topic_modeling_textbook/blob/main/03_03_lda_model_demo.ipynb\u001b[39;00m\n\u001b[0;32m----> 3\u001b[0m \u001b[43mpyLDAvis\u001b[49m\u001b[38;5;241;43m.\u001b[39;49m\u001b[43mgensim\u001b[49m\u001b[38;5;241m.\u001b[39mprepare(model, corpus, d, mds\u001b[38;5;241m=\u001b[39m\u001b[38;5;124m\"\u001b[39m\u001b[38;5;124mmmds\u001b[39m\u001b[38;5;124m\"\u001b[39m, R\u001b[38;5;241m=\u001b[39mNUM_TOPICS)\n",
      "\u001b[0;31mAttributeError\u001b[0m: module 'pyLDAvis' has no attribute 'gensim'"
     ]
    }
   ],
   "source": [
    "# Visualize\n",
    "# Learned about this library from https://github.com/wjbmattingly/topic_modeling_textbook/blob/main/03_03_lda_model_demo.ipynb\n",
    "pyLDAvis.gensim.prepare(model, corpus, d, mds=\"mmds\", R=NUM_TOPICS)"
   ]
  }
 ],
 "metadata": {
  "kernelspec": {
   "display_name": "cs2510-final",
   "language": "python",
   "name": "python3"
  },
  "language_info": {
   "codemirror_mode": {
    "name": "ipython",
    "version": 3
   },
   "file_extension": ".py",
   "mimetype": "text/x-python",
   "name": "python",
   "nbconvert_exporter": "python",
   "pygments_lexer": "ipython3",
   "version": "3.12.2"
  }
 },
 "nbformat": 4,
 "nbformat_minor": 2
}
