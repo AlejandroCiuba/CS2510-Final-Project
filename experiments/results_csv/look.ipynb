{
 "cells": [
  {
   "cell_type": "code",
   "execution_count": 1,
   "metadata": {},
   "outputs": [],
   "source": [
    "import pandas as pd"
   ]
  },
  {
   "cell_type": "code",
   "execution_count": 2,
   "metadata": {},
   "outputs": [
    {
     "name": "stdout",
     "output_type": "stream",
     "text": [
      "<class 'pandas.core.frame.DataFrame'>\n",
      "RangeIndex: 3 entries, 0 to 2\n",
      "Data columns (total 7 columns):\n",
      " #   Column          Non-Null Count  Dtype  \n",
      "---  ------          --------------  -----  \n",
      " 0   IMPLEMENTATION  3 non-null      object \n",
      " 1   RUN_IN_FILE     3 non-null      int64  \n",
      " 2   MESSAGES_SENT   3 non-null      int64  \n",
      " 3   COMMIT_TIME     3 non-null      float64\n",
      " 4   CPU_UTIL        3 non-null      float64\n",
      " 5   MAX_MEM         3 non-null      float64\n",
      " 6   LOG_SIZE        3 non-null      float64\n",
      "dtypes: float64(4), int64(2), object(1)\n",
      "memory usage: 300.0+ bytes\n"
     ]
    }
   ],
   "source": [
    "df = pd.read_csv(\"pysyncobj.2024-04-23T16:42.csv\")\n",
    "df.info()"
   ]
  },
  {
   "cell_type": "code",
   "execution_count": 3,
   "metadata": {},
   "outputs": [
    {
     "data": {
      "text/html": [
       "<div>\n",
       "<style scoped>\n",
       "    .dataframe tbody tr th:only-of-type {\n",
       "        vertical-align: middle;\n",
       "    }\n",
       "\n",
       "    .dataframe tbody tr th {\n",
       "        vertical-align: top;\n",
       "    }\n",
       "\n",
       "    .dataframe thead th {\n",
       "        text-align: right;\n",
       "    }\n",
       "</style>\n",
       "<table border=\"1\" class=\"dataframe\">\n",
       "  <thead>\n",
       "    <tr style=\"text-align: right;\">\n",
       "      <th></th>\n",
       "      <th>IMPLEMENTATION</th>\n",
       "      <th>RUN_IN_FILE</th>\n",
       "      <th>MESSAGES_SENT</th>\n",
       "      <th>COMMIT_TIME</th>\n",
       "      <th>CPU_UTIL</th>\n",
       "      <th>MAX_MEM</th>\n",
       "      <th>LOG_SIZE</th>\n",
       "    </tr>\n",
       "  </thead>\n",
       "  <tbody>\n",
       "    <tr>\n",
       "      <th>0</th>\n",
       "      <td>pysyncobj</td>\n",
       "      <td>1</td>\n",
       "      <td>10000</td>\n",
       "      <td>0.099089</td>\n",
       "      <td>2.0</td>\n",
       "      <td>40872.0</td>\n",
       "      <td>209904.0</td>\n",
       "    </tr>\n",
       "    <tr>\n",
       "      <th>1</th>\n",
       "      <td>pysyncobj</td>\n",
       "      <td>2</td>\n",
       "      <td>10000</td>\n",
       "      <td>0.099053</td>\n",
       "      <td>2.0</td>\n",
       "      <td>40976.0</td>\n",
       "      <td>210912.0</td>\n",
       "    </tr>\n",
       "    <tr>\n",
       "      <th>2</th>\n",
       "      <td>pysyncobj</td>\n",
       "      <td>3</td>\n",
       "      <td>10000</td>\n",
       "      <td>0.099081</td>\n",
       "      <td>2.0</td>\n",
       "      <td>40996.0</td>\n",
       "      <td>210408.0</td>\n",
       "    </tr>\n",
       "  </tbody>\n",
       "</table>\n",
       "</div>"
      ],
      "text/plain": [
       "  IMPLEMENTATION  RUN_IN_FILE  MESSAGES_SENT  COMMIT_TIME  CPU_UTIL  MAX_MEM  \\\n",
       "0      pysyncobj            1          10000     0.099089       2.0  40872.0   \n",
       "1      pysyncobj            2          10000     0.099053       2.0  40976.0   \n",
       "2      pysyncobj            3          10000     0.099081       2.0  40996.0   \n",
       "\n",
       "   LOG_SIZE  \n",
       "0  209904.0  \n",
       "1  210912.0  \n",
       "2  210408.0  "
      ]
     },
     "execution_count": 3,
     "metadata": {},
     "output_type": "execute_result"
    }
   ],
   "source": [
    "df.head()"
   ]
  }
 ],
 "metadata": {
  "kernelspec": {
   "display_name": "cs2510-final",
   "language": "python",
   "name": "python3"
  },
  "language_info": {
   "codemirror_mode": {
    "name": "ipython",
    "version": 3
   },
   "file_extension": ".py",
   "mimetype": "text/x-python",
   "name": "python",
   "nbconvert_exporter": "python",
   "pygments_lexer": "ipython3",
   "version": "3.12.2"
  }
 },
 "nbformat": 4,
 "nbformat_minor": 2
}
