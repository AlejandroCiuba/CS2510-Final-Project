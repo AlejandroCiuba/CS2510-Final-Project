{
 "cells": [
  {
   "cell_type": "markdown",
   "metadata": {},
   "source": [
    "# Issues\n",
    "\n",
    "---\n",
    "\n",
    "## Summary\n",
    "\n",
    "This notebook does some basic analysis of the issues found in the chosen repositories\n",
    "\n",
    "---\n",
    "\n",
    "## Set-Up\n",
    "\n",
    "### Necessary Imports"
   ]
  },
  {
   "cell_type": "code",
   "execution_count": 13,
   "metadata": {},
   "outputs": [],
   "source": [
    "import datetime\n",
    "\n",
    "import pandas as pd\n",
    "import matplotlib.pyplot as plt\n",
    "import seaborn as sns"
   ]
  },
  {
   "cell_type": "markdown",
   "metadata": {},
   "source": [
    "### Settings"
   ]
  },
  {
   "cell_type": "code",
   "execution_count": 2,
   "metadata": {},
   "outputs": [
    {
     "name": "stdout",
     "output_type": "stream",
     "text": [
      "Pretty printing has been turned OFF\n"
     ]
    }
   ],
   "source": [
    "# Turn this off\n",
    "%pprint\n",
    "pd.set_option('display.max_columns', None)\n",
    "plt.style.use('ggplot')"
   ]
  },
  {
   "cell_type": "markdown",
   "metadata": {},
   "source": [
    "### Globals"
   ]
  },
  {
   "cell_type": "code",
   "execution_count": 6,
   "metadata": {},
   "outputs": [],
   "source": [
    "PATH = \"issues.csv\"\n",
    "issues = pd.read_csv(PATH)"
   ]
  },
  {
   "cell_type": "code",
   "execution_count": 7,
   "metadata": {},
   "outputs": [
    {
     "name": "stdout",
     "output_type": "stream",
     "text": [
      "<class 'pandas.core.frame.DataFrame'>\n",
      "RangeIndex: 5301 entries, 0 to 5300\n",
      "Data columns (total 6 columns):\n",
      " #   Column   Non-Null Count  Dtype \n",
      "---  ------   --------------  ----- \n",
      " 0   ID       5301 non-null   int64 \n",
      " 1   STATUS   5301 non-null   object\n",
      " 2   ISSUE    5301 non-null   object\n",
      " 3   LABELS   4148 non-null   object\n",
      " 4   UPDATED  5301 non-null   object\n",
      " 5   REPO     5301 non-null   object\n",
      "dtypes: int64(1), object(5)\n",
      "memory usage: 248.6+ KB\n"
     ]
    },
    {
     "data": {
      "text/html": [
       "<div>\n",
       "<style scoped>\n",
       "    .dataframe tbody tr th:only-of-type {\n",
       "        vertical-align: middle;\n",
       "    }\n",
       "\n",
       "    .dataframe tbody tr th {\n",
       "        vertical-align: top;\n",
       "    }\n",
       "\n",
       "    .dataframe thead th {\n",
       "        text-align: right;\n",
       "    }\n",
       "</style>\n",
       "<table border=\"1\" class=\"dataframe\">\n",
       "  <thead>\n",
       "    <tr style=\"text-align: right;\">\n",
       "      <th></th>\n",
       "      <th>ID</th>\n",
       "      <th>STATUS</th>\n",
       "      <th>ISSUE</th>\n",
       "      <th>LABELS</th>\n",
       "      <th>UPDATED</th>\n",
       "      <th>REPO</th>\n",
       "    </tr>\n",
       "  </thead>\n",
       "  <tbody>\n",
       "    <tr>\n",
       "      <th>0</th>\n",
       "      <td>586</td>\n",
       "      <td>OPEN</td>\n",
       "      <td>Leader election times seem too long with max c...</td>\n",
       "      <td>NaN</td>\n",
       "      <td>2024-03-06T10:34:55Z</td>\n",
       "      <td>/hashicorp/</td>\n",
       "    </tr>\n",
       "    <tr>\n",
       "      <th>1</th>\n",
       "      <td>585</td>\n",
       "      <td>OPEN</td>\n",
       "      <td>Allow network transfer of snapshot to be cance...</td>\n",
       "      <td>NaN</td>\n",
       "      <td>2024-02-28T20:15:22Z</td>\n",
       "      <td>/hashicorp/</td>\n",
       "    </tr>\n",
       "    <tr>\n",
       "      <th>2</th>\n",
       "      <td>578</td>\n",
       "      <td>CLOSED</td>\n",
       "      <td>Inconsistent Raft Latency on Different Infrast...</td>\n",
       "      <td>NaN</td>\n",
       "      <td>2023-10-30T22:10:40Z</td>\n",
       "      <td>/hashicorp/</td>\n",
       "    </tr>\n",
       "    <tr>\n",
       "      <th>3</th>\n",
       "      <td>576</td>\n",
       "      <td>CLOSED</td>\n",
       "      <td>Ability for peers to denote others/themselves ...</td>\n",
       "      <td>NaN</td>\n",
       "      <td>2023-10-17T17:25:44Z</td>\n",
       "      <td>/hashicorp/</td>\n",
       "    </tr>\n",
       "    <tr>\n",
       "      <th>4</th>\n",
       "      <td>574</td>\n",
       "      <td>CLOSED</td>\n",
       "      <td>Use pebbledb as raft logstore &amp; stablestore; r...</td>\n",
       "      <td>NaN</td>\n",
       "      <td>2023-09-20T03:28:58Z</td>\n",
       "      <td>/hashicorp/</td>\n",
       "    </tr>\n",
       "  </tbody>\n",
       "</table>\n",
       "</div>"
      ],
      "text/plain": [
       "    ID  STATUS                                              ISSUE LABELS  \\\n",
       "0  586    OPEN  Leader election times seem too long with max c...    NaN   \n",
       "1  585    OPEN  Allow network transfer of snapshot to be cance...    NaN   \n",
       "2  578  CLOSED  Inconsistent Raft Latency on Different Infrast...    NaN   \n",
       "3  576  CLOSED  Ability for peers to denote others/themselves ...    NaN   \n",
       "4  574  CLOSED  Use pebbledb as raft logstore & stablestore; r...    NaN   \n",
       "\n",
       "                UPDATED         REPO  \n",
       "0  2024-03-06T10:34:55Z  /hashicorp/  \n",
       "1  2024-02-28T20:15:22Z  /hashicorp/  \n",
       "2  2023-10-30T22:10:40Z  /hashicorp/  \n",
       "3  2023-10-17T17:25:44Z  /hashicorp/  \n",
       "4  2023-09-20T03:28:58Z  /hashicorp/  "
      ]
     },
     "execution_count": 7,
     "metadata": {},
     "output_type": "execute_result"
    }
   ],
   "source": [
    "issues.info()\n",
    "issues.head()"
   ]
  },
  {
   "cell_type": "markdown",
   "metadata": {},
   "source": [
    "---\n",
    "\n",
    "## Clean-Up"
   ]
  },
  {
   "cell_type": "code",
   "execution_count": 8,
   "metadata": {},
   "outputs": [
    {
     "data": {
      "text/plain": [
       "0       hashicorp\n",
       "1       hashicorp\n",
       "2       hashicorp\n",
       "3       hashicorp\n",
       "4       hashicorp\n",
       "          ...    \n",
       "5296        bakwc\n",
       "5297        bakwc\n",
       "5298        bakwc\n",
       "5299        bakwc\n",
       "5300        bakwc\n",
       "Name: REPO, Length: 5301, dtype: object"
      ]
     },
     "execution_count": 8,
     "metadata": {},
     "output_type": "execute_result"
    }
   ],
   "source": [
    "issues.REPO = issues.REPO.map(lambda x: x[1:-1])\n",
    "issues.REPO"
   ]
  },
  {
   "cell_type": "code",
   "execution_count": 14,
   "metadata": {},
   "outputs": [
    {
     "data": {
      "text/plain": [
       "0       2024-03-06T10:34:55\n",
       "1       2024-02-28T20:15:22\n",
       "2       2023-10-30T22:10:40\n",
       "3       2023-10-17T17:25:44\n",
       "4       2023-09-20T03:28:58\n",
       "               ...         \n",
       "5296    2016-07-04T07:52:16\n",
       "5297    2016-06-12T03:25:47\n",
       "5298    2018-10-28T18:45:28\n",
       "5299    2016-04-05T15:15:37\n",
       "5300    2016-04-04T09:35:04\n",
       "Name: UPDATED, Length: 5301, dtype: object"
      ]
     },
     "execution_count": 14,
     "metadata": {},
     "output_type": "execute_result"
    }
   ],
   "source": [
    "issues.UPDATED = issues.UPDATED.map(lambda x: x.isoformat())\n",
    "issues.UPDATED"
   ]
  }
 ],
 "metadata": {
  "kernelspec": {
   "display_name": "cs2510-final",
   "language": "python",
   "name": "python3"
  },
  "language_info": {
   "codemirror_mode": {
    "name": "ipython",
    "version": 3
   },
   "file_extension": ".py",
   "mimetype": "text/x-python",
   "name": "python",
   "nbconvert_exporter": "python",
   "pygments_lexer": "ipython3",
   "version": "3.12.2"
  }
 },
 "nbformat": 4,
 "nbformat_minor": 2
}
